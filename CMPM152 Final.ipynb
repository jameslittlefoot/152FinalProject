{
 "cells": [
  {
   "cell_type": "markdown",
   "id": "dedc0944",
   "metadata": {},
   "source": [
    "# Final Project: Parameter Mapping Sonification"
   ]
  },
  {
   "cell_type": "markdown",
   "id": "73d0daec",
   "metadata": {},
   "source": [
    "# Group Members: James Nguyen, Julian Liaw"
   ]
  },
  {
   "cell_type": "code",
   "execution_count": 2,
   "id": "06df251c",
   "metadata": {},
   "outputs": [],
   "source": [
    "import librosa\n",
    "import librosa.display\n",
    "import pandas as pd\n",
    "import numpy, scipy, matplotlib.pyplot as plt, sklearn, urllib, IPython.display as ipd\n",
    "import matplotlib.pyplot as plt\n",
    "import IPython.display as ipd\n",
    "%matplotlib inline"
   ]
  },
  {
   "cell_type": "markdown",
   "id": "e97a8d7a",
   "metadata": {},
   "source": [
    "# Load Data File\n"
   ]
  },
  {
   "cell_type": "code",
   "execution_count": 3,
   "id": "640b0cdf",
   "metadata": {},
   "outputs": [
    {
     "data": {
      "text/html": [
       "<div>\n",
       "<style scoped>\n",
       "    .dataframe tbody tr th:only-of-type {\n",
       "        vertical-align: middle;\n",
       "    }\n",
       "\n",
       "    .dataframe tbody tr th {\n",
       "        vertical-align: top;\n",
       "    }\n",
       "\n",
       "    .dataframe thead th {\n",
       "        text-align: right;\n",
       "    }\n",
       "</style>\n",
       "<table border=\"1\" class=\"dataframe\">\n",
       "  <thead>\n",
       "    <tr style=\"text-align: right;\">\n",
       "      <th></th>\n",
       "      <th>Unnamed: 0</th>\n",
       "      <th>Date</th>\n",
       "      <th>Home Team</th>\n",
       "      <th>Away Team</th>\n",
       "      <th>Win or Loss for Celtics</th>\n",
       "      <th>Win or Loss for Warriors</th>\n",
       "      <th>Celtics score</th>\n",
       "      <th>Warriors score</th>\n",
       "      <th>Streak</th>\n",
       "    </tr>\n",
       "  </thead>\n",
       "  <tbody>\n",
       "    <tr>\n",
       "      <th>0</th>\n",
       "      <td>0</td>\n",
       "      <td>Mar 16, 2022</td>\n",
       "      <td>Warriors</td>\n",
       "      <td>Celtics</td>\n",
       "      <td>W</td>\n",
       "      <td>L</td>\n",
       "      <td>110</td>\n",
       "      <td>88</td>\n",
       "      <td>Celtics won 1</td>\n",
       "    </tr>\n",
       "    <tr>\n",
       "      <th>1</th>\n",
       "      <td>1</td>\n",
       "      <td>Dec 17, 2021</td>\n",
       "      <td>Celtics</td>\n",
       "      <td>Warriors</td>\n",
       "      <td>L</td>\n",
       "      <td>W</td>\n",
       "      <td>107</td>\n",
       "      <td>111</td>\n",
       "      <td>Warriors won 1</td>\n",
       "    </tr>\n",
       "    <tr>\n",
       "      <th>2</th>\n",
       "      <td>2</td>\n",
       "      <td>Apr 17, 2021</td>\n",
       "      <td>Celtics</td>\n",
       "      <td>Warriors</td>\n",
       "      <td>W</td>\n",
       "      <td>L</td>\n",
       "      <td>119</td>\n",
       "      <td>114</td>\n",
       "      <td>Celtics won 5</td>\n",
       "    </tr>\n",
       "    <tr>\n",
       "      <th>3</th>\n",
       "      <td>3</td>\n",
       "      <td>Feb 2, 2021</td>\n",
       "      <td>Warriors</td>\n",
       "      <td>Celtics</td>\n",
       "      <td>W</td>\n",
       "      <td>L</td>\n",
       "      <td>111</td>\n",
       "      <td>107</td>\n",
       "      <td>Celtics won 4</td>\n",
       "    </tr>\n",
       "    <tr>\n",
       "      <th>4</th>\n",
       "      <td>4</td>\n",
       "      <td>Jan 30, 2020</td>\n",
       "      <td>Celtics</td>\n",
       "      <td>Warriors</td>\n",
       "      <td>W</td>\n",
       "      <td>L</td>\n",
       "      <td>119</td>\n",
       "      <td>104</td>\n",
       "      <td>Celtics won 3</td>\n",
       "    </tr>\n",
       "  </tbody>\n",
       "</table>\n",
       "</div>"
      ],
      "text/plain": [
       "   Unnamed: 0          Date Home Team Away Team Win or Loss for Celtics  \\\n",
       "0           0  Mar 16, 2022  Warriors   Celtics                       W   \n",
       "1           1  Dec 17, 2021   Celtics  Warriors                       L   \n",
       "2           2  Apr 17, 2021   Celtics  Warriors                       W   \n",
       "3           3   Feb 2, 2021  Warriors   Celtics                       W   \n",
       "4           4  Jan 30, 2020   Celtics  Warriors                       W   \n",
       "\n",
       "  Win or Loss for Warriors  Celtics score  Warriors score          Streak  \n",
       "0                        L            110              88   Celtics won 1  \n",
       "1                        W            107             111  Warriors won 1  \n",
       "2                        L            119             114   Celtics won 5  \n",
       "3                        L            111             107   Celtics won 4  \n",
       "4                        L            119             104   Celtics won 3  "
      ]
     },
     "execution_count": 3,
     "metadata": {},
     "output_type": "execute_result"
    }
   ],
   "source": [
    "data = pd.read_csv('DATA/warriorsceltics.csv', low_memory=False)\n",
    "data.head()"
   ]
  },
  {
   "cell_type": "markdown",
   "id": "7dc93771",
   "metadata": {},
   "source": [
    "# Format for Audio Playback\n"
   ]
  },
  {
   "cell_type": "code",
   "execution_count": 4,
   "id": "00ee3118",
   "metadata": {},
   "outputs": [
    {
     "name": "stdout",
     "output_type": "stream",
     "text": [
      "(346,)\n"
     ]
    }
   ],
   "source": [
    "data.shape\n",
    "\n",
    "# get the first column of data...\n",
    "wave = data.iloc[:, 6]\n",
    "\n",
    "print(wave.shape)"
   ]
  },
  {
   "cell_type": "code",
   "execution_count": 5,
   "id": "9c7bd909",
   "metadata": {},
   "outputs": [],
   "source": [
    "import math\n",
    "\n",
    "def normalize(x, dB):\n",
    "\n",
    "    ampMax = numpy.amax(abs(x))\n",
    "    ampTarget = math.pow(10, dB / 20)     \n",
    "    normFactor = ampTarget / ampMax \n",
    "    \n",
    "    # Return the normalized signal.\n",
    "    return x * normFactor"
   ]
  },
  {
   "cell_type": "code",
   "execution_count": 11,
   "id": "f6f82d28",
   "metadata": {},
   "outputs": [
    {
     "data": {
      "text/html": [
       "\n",
       "                <audio  controls=\"controls\" >\n",
       "                    <source src=\"data:audio/wav;base64,UklGRtgCAABXQVZFZm10IBAAAAABAAEARQEAAIoCAAACABAAZGF0YbQCAAAFXINZjWPcXI1j11cUa9xc11f3TNJSnkkvW41jflTcXJ5JJVGjTm9F11eDWTRg0lIvW3RKjWPhYddXqFN5Ty9bL1tFRq1Y3FyoU3lPkmhUVb4+IEyeSTllqFNjZMhIflQKYSpWo04KYeFhSku8Z15fyEheX7JdFGvXV+ZmNGC3YoNZOWU0YBlw8HA0YPBwg1nwcJJo8HAvW0h011cPZq1YWVoFXABXflQqVvxR/FGeSa1Yt2KjTl5f90z8UY1jo05+VDRgflRZWjRgNGCDWVRVkmhZWrdiBVyyXRRrvGfcXK1Y0lK+Phlw62utWHJzdEo0YNxc4WHXVzRgBVxyc3lPVFUZcFRV/FG8Z/BwD2bcXH5UAFeIXpxyvGcPZpxyOWVZWmhpt2I5ZQphrVjSUuFhsl28ZzRgCmGhd1larVjBbF5fAFejToNZ11cbRw9mBVyDWU9QeU/3TFladErcXC9bsl3wcLdikmi3YvBwWVoKYT5q/38vW61YvGfra61YTXkKYeZmjWMUa7JdI3pDb9xcxnEUa+triF7mZn5UjWMlUW1uKlZDb1lakmgPZgph62u8Z+FhaGmccsFsiF40YJJoeU9jZIhenHJtbvxR11fmZqhTg1nXV9JSKlYFXH5UT1BeXwBXrVjXV7Jdsl3cXEpLL1sqVtdXg1moU2NkmUQAV9xcflR5T2NkFGvra2NkflQAVzRgAFc5ZVla90z8UbJddEpeX35UL1uDWaNOSkvhYY1jg1n8USVRJVF5T0BBET1+VCpWdEo7PBZCKlaZRMhIIExFRplEKlbyR29FzU1PUJ5JT1AbR/dMQEEqVlRVb0XNTcND/FHtQvxRJVHoPeM4ijWZRPJH8kcgTO1CWVoWQmpAnkkbRxE93jMxMuM4BzOPOrk5DDjoPa8vAi75IzEyakAsLQ==\" type=\"audio/wav\" />\n",
       "                    Your browser does not support the audio element.\n",
       "                </audio>\n",
       "              "
      ],
      "text/plain": [
       "<IPython.lib.display.Audio object>"
      ]
     },
     "execution_count": 11,
     "metadata": {},
     "output_type": "execute_result"
    }
   ],
   "source": [
    "wave = normalize(wave, -3)\n",
    "\n",
    "sr = 325 # sample rate\n",
    "ipd.Audio(wave, rate=sr)"
   ]
  },
  {
   "cell_type": "markdown",
   "id": "530a7dd0",
   "metadata": {},
   "source": [
    "# Export the Audio\n"
   ]
  },
  {
   "cell_type": "code",
   "execution_count": 12,
   "id": "e202b644",
   "metadata": {},
   "outputs": [],
   "source": [
    "import soundfile as sf\n",
    "sf.write('DATA/warriorsceltics.wav', wave, sr, 'PCM_24')"
   ]
  },
  {
   "cell_type": "code",
   "execution_count": 14,
   "id": "79bf5443",
   "metadata": {},
   "outputs": [
    {
     "name": "stdout",
     "output_type": "stream",
     "text": [
      "(23475,)\n",
      "22050\n",
      "1.064625850340136\n"
     ]
    },
    {
     "name": "stderr",
     "output_type": "stream",
     "text": [
      "/var/folders/zz/4rbbqf5d1mvbsgp0hsws8kd00000gn/T/ipykernel_7836/2030000725.py:4: FutureWarning: Pass y=[0.48642957 0.4907767  0.49497452 ... 0.01249622 0.01017814 0.        ], sr=22050 as keyword args. From version 0.10 passing these as positional arguments will result in an error\n",
      "  print(librosa.get_duration(x, sr))\n"
     ]
    }
   ],
   "source": [
    "x, sr = librosa.load('DATA/warriorsceltics.wav')\n",
    "print(x.shape)\n",
    "print(sr)\n",
    "print(librosa.get_duration(x, sr))"
   ]
  },
  {
   "cell_type": "markdown",
   "id": "d73edbb8",
   "metadata": {},
   "source": [
    "# Plot the Waveform\n"
   ]
  },
  {
   "cell_type": "code",
   "execution_count": 15,
   "id": "1192eecb",
   "metadata": {},
   "outputs": [
    {
     "data": {
      "text/plain": [
       "<librosa.display.AdaptiveWaveplot at 0x7fabb16f2790>"
      ]
     },
     "execution_count": 15,
     "metadata": {},
     "output_type": "execute_result"
    },
    {
     "data": {
      "image/png": "[encoded data removed]",
      "text/plain": [
       "<Figure size 1008x360 with 1 Axes>"
      ]
     },
     "metadata": {
      "needs_background": "light"
     },
     "output_type": "display_data"
    }
   ],
   "source": [
    "plt.figure(figsize=(14, 5))\n",
    "librosa.display.waveshow(x, sr=sr)"
   ]
  },
  {
   "cell_type": "markdown",
   "id": "f1f4664a",
   "metadata": {},
   "source": [
    "# Feature Extraction"
   ]
  },
  {
   "cell_type": "code",
   "execution_count": 16,
   "id": "cf9942f7",
   "metadata": {},
   "outputs": [],
   "source": [
    "def extract_features(signal):\n",
    "    return [\n",
    "        librosa.feature.spectral_centroid(signal)[0, 0],\n",
    "        librosa.feature.spectral_rolloff(signal)[0, 0],\n",
    "        librosa.feature.spectral_contrast(signal)[0, 0],\n",
    "    ]"
   ]
  },
  {
   "cell_type": "code",
   "execution_count": 17,
   "id": "9064beb3",
   "metadata": {},
   "outputs": [
    {
     "name": "stderr",
     "output_type": "stream",
     "text": [
      "/var/folders/zz/4rbbqf5d1mvbsgp0hsws8kd00000gn/T/ipykernel_7836/3336989843.py:3: FutureWarning: Pass y=[0.48642957 0.4907767  0.49497452 ... 0.43521345 0.4357325  0.4362915 ] as keyword args. From version 0.10 passing these as positional arguments will result in an error\n",
      "  librosa.feature.spectral_centroid(signal)[0, 0],\n",
      "/var/folders/zz/4rbbqf5d1mvbsgp0hsws8kd00000gn/T/ipykernel_7836/3336989843.py:4: FutureWarning: Pass y=[0.48642957 0.4907767  0.49497452 ... 0.43521345 0.4357325  0.4362915 ] as keyword args. From version 0.10 passing these as positional arguments will result in an error\n",
      "  librosa.feature.spectral_rolloff(signal)[0, 0],\n",
      "/var/folders/zz/4rbbqf5d1mvbsgp0hsws8kd00000gn/T/ipykernel_7836/3336989843.py:5: FutureWarning: Pass y=[0.48642957 0.4907767  0.49497452 ... 0.43521345 0.4357325  0.4362915 ] as keyword args. From version 0.10 passing these as positional arguments will result in an error\n",
      "  librosa.feature.spectral_contrast(signal)[0, 0],\n",
      "/var/folders/zz/4rbbqf5d1mvbsgp0hsws8kd00000gn/T/ipykernel_7836/3336989843.py:3: FutureWarning: Pass y=[0.43688992 0.4375278  0.4382052  ... 0.5066849  0.5078482  0.5090467 ] as keyword args. From version 0.10 passing these as positional arguments will result in an error\n",
      "  librosa.feature.spectral_centroid(signal)[0, 0],\n",
      "/var/folders/zz/4rbbqf5d1mvbsgp0hsws8kd00000gn/T/ipykernel_7836/3336989843.py:4: FutureWarning: Pass y=[0.43688992 0.4375278  0.4382052  ... 0.5066849  0.5078482  0.5090467 ] as keyword args. From version 0.10 passing these as positional arguments will result in an error\n",
      "  librosa.feature.spectral_rolloff(signal)[0, 0],\n",
      "/var/folders/zz/4rbbqf5d1mvbsgp0hsws8kd00000gn/T/ipykernel_7836/3336989843.py:5: FutureWarning: Pass y=[0.43688992 0.4375278  0.4382052  ... 0.5066849  0.5078482  0.5090467 ] as keyword args. From version 0.10 passing these as positional arguments will result in an error\n",
      "  librosa.feature.spectral_contrast(signal)[0, 0],\n",
      "/var/folders/zz/4rbbqf5d1mvbsgp0hsws8kd00000gn/T/ipykernel_7836/3336989843.py:3: FutureWarning: Pass y=[0.51027924 0.51154363 0.51283735 ... 0.47399548 0.47599068 0.47799706] as keyword args. From version 0.10 passing these as positional arguments will result in an error\n",
      "  librosa.feature.spectral_centroid(signal)[0, 0],\n",
      "/var/folders/zz/4rbbqf5d1mvbsgp0hsws8kd00000gn/T/ipykernel_7836/3336989843.py:4: FutureWarning: Pass y=[0.51027924 0.51154363 0.51283735 ... 0.47399548 0.47599068 0.47799706] as keyword args. From version 0.10 passing these as positional arguments will result in an error\n",
      "  librosa.feature.spectral_rolloff(signal)[0, 0],\n",
      "/var/folders/zz/4rbbqf5d1mvbsgp0hsws8kd00000gn/T/ipykernel_7836/3336989843.py:5: FutureWarning: Pass y=[0.51027924 0.51154363 0.51283735 ... 0.47399548 0.47599068 0.47799706] as keyword args. From version 0.10 passing these as positional arguments will result in an error\n",
      "  librosa.feature.spectral_contrast(signal)[0, 0],\n",
      "/var/folders/zz/4rbbqf5d1mvbsgp0hsws8kd00000gn/T/ipykernel_7836/3336989843.py:3: FutureWarning: Pass y=[0.48001105 0.48202965 0.4840492  ... 0.5396551  0.53923506 0.53879935] as keyword args. From version 0.10 passing these as positional arguments will result in an error\n",
      "  librosa.feature.spectral_centroid(signal)[0, 0],\n",
      "/var/folders/zz/4rbbqf5d1mvbsgp0hsws8kd00000gn/T/ipykernel_7836/3336989843.py:4: FutureWarning: Pass y=[0.48001105 0.48202965 0.4840492  ... 0.5396551  0.53923506 0.53879935] as keyword args. From version 0.10 passing these as positional arguments will result in an error\n",
      "  librosa.feature.spectral_rolloff(signal)[0, 0],\n",
      "/var/folders/zz/4rbbqf5d1mvbsgp0hsws8kd00000gn/T/ipykernel_7836/3336989843.py:5: FutureWarning: Pass y=[0.48001105 0.48202965 0.4840492  ... 0.5396551  0.53923506 0.53879935] as keyword args. From version 0.10 passing these as positional arguments will result in an error\n",
      "  librosa.feature.spectral_contrast(signal)[0, 0],\n",
      "/var/folders/zz/4rbbqf5d1mvbsgp0hsws8kd00000gn/T/ipykernel_7836/3336989843.py:3: FutureWarning: Pass y=[0.53834957 0.5378871  0.5374135  ... 0.5315352  0.5322639  0.5329598 ] as keyword args. From version 0.10 passing these as positional arguments will result in an error\n",
      "  librosa.feature.spectral_centroid(signal)[0, 0],\n",
      "/var/folders/zz/4rbbqf5d1mvbsgp0hsws8kd00000gn/T/ipykernel_7836/3336989843.py:4: FutureWarning: Pass y=[0.53834957 0.5378871  0.5374135  ... 0.5315352  0.5322639  0.5329598 ] as keyword args. From version 0.10 passing these as positional arguments will result in an error\n",
      "  librosa.feature.spectral_rolloff(signal)[0, 0],\n",
      "/var/folders/zz/4rbbqf5d1mvbsgp0hsws8kd00000gn/T/ipykernel_7836/3336989843.py:5: FutureWarning: Pass y=[0.53834957 0.5378871  0.5374135  ... 0.5315352  0.5322639  0.5329598 ] as keyword args. From version 0.10 passing these as positional arguments will result in an error\n",
      "  librosa.feature.spectral_contrast(signal)[0, 0],\n",
      "/var/folders/zz/4rbbqf5d1mvbsgp0hsws8kd00000gn/T/ipykernel_7836/3336989843.py:3: FutureWarning: Pass y=[0.5336236  0.53425455 0.53485185 ... 0.6022034  0.6015393  0.6008339 ] as keyword args. From version 0.10 passing these as positional arguments will result in an error\n",
      "  librosa.feature.spectral_centroid(signal)[0, 0],\n",
      "/var/folders/zz/4rbbqf5d1mvbsgp0hsws8kd00000gn/T/ipykernel_7836/3336989843.py:4: FutureWarning: Pass y=[0.5336236  0.53425455 0.53485185 ... 0.6022034  0.6015393  0.6008339 ] as keyword args. From version 0.10 passing these as positional arguments will result in an error\n",
      "  librosa.feature.spectral_rolloff(signal)[0, 0],\n",
      "/var/folders/zz/4rbbqf5d1mvbsgp0hsws8kd00000gn/T/ipykernel_7836/3336989843.py:5: FutureWarning: Pass y=[0.5336236  0.53425455 0.53485185 ... 0.6022034  0.6015393  0.6008339 ] as keyword args. From version 0.10 passing these as positional arguments will result in an error\n",
      "  librosa.feature.spectral_contrast(signal)[0, 0],\n",
      "/var/folders/zz/4rbbqf5d1mvbsgp0hsws8kd00000gn/T/ipykernel_7836/3336989843.py:3: FutureWarning: Pass y=[0.60008764 0.5993018  0.5984766  ... 0.49631533 0.49555358 0.49488103] as keyword args. From version 0.10 passing these as positional arguments will result in an error\n",
      "  librosa.feature.spectral_centroid(signal)[0, 0],\n",
      "/var/folders/zz/4rbbqf5d1mvbsgp0hsws8kd00000gn/T/ipykernel_7836/3336989843.py:4: FutureWarning: Pass y=[0.60008764 0.5993018  0.5984766  ... 0.49631533 0.49555358 0.49488103] as keyword args. From version 0.10 passing these as positional arguments will result in an error\n",
      "  librosa.feature.spectral_rolloff(signal)[0, 0],\n",
      "/var/folders/zz/4rbbqf5d1mvbsgp0hsws8kd00000gn/T/ipykernel_7836/3336989843.py:5: FutureWarning: Pass y=[0.60008764 0.5993018  0.5984766  ... 0.49631533 0.49555358 0.49488103] as keyword args. From version 0.10 passing these as positional arguments will result in an error\n",
      "  librosa.feature.spectral_contrast(signal)[0, 0],\n",
      "/var/folders/zz/4rbbqf5d1mvbsgp0hsws8kd00000gn/T/ipykernel_7836/3336989843.py:3: FutureWarning: Pass y=[0.494299   0.49380812 0.4934096  ... 0.47934264 0.4795021  0.47967425] as keyword args. From version 0.10 passing these as positional arguments will result in an error\n",
      "  librosa.feature.spectral_centroid(signal)[0, 0],\n",
      "/var/folders/zz/4rbbqf5d1mvbsgp0hsws8kd00000gn/T/ipykernel_7836/3336989843.py:4: FutureWarning: Pass y=[0.494299   0.49380812 0.4934096  ... 0.47934264 0.4795021  0.47967425] as keyword args. From version 0.10 passing these as positional arguments will result in an error\n",
      "  librosa.feature.spectral_rolloff(signal)[0, 0],\n",
      "/var/folders/zz/4rbbqf5d1mvbsgp0hsws8kd00000gn/T/ipykernel_7836/3336989843.py:5: FutureWarning: Pass y=[0.494299   0.49380812 0.4934096  ... 0.47934264 0.4795021  0.47967425] as keyword args. From version 0.10 passing these as positional arguments will result in an error\n",
      "  librosa.feature.spectral_contrast(signal)[0, 0],\n",
      "/var/folders/zz/4rbbqf5d1mvbsgp0hsws8kd00000gn/T/ipykernel_7836/3336989843.py:3: FutureWarning: Pass y=[0.47985825 0.48005328 0.4802586  ... 0.43729502 0.43612668 0.4350061 ] as keyword args. From version 0.10 passing these as positional arguments will result in an error\n",
      "  librosa.feature.spectral_centroid(signal)[0, 0],\n",
      "/var/folders/zz/4rbbqf5d1mvbsgp0hsws8kd00000gn/T/ipykernel_7836/3336989843.py:4: FutureWarning: Pass y=[0.47985825 0.48005328 0.4802586  ... 0.43729502 0.43612668 0.4350061 ] as keyword args. From version 0.10 passing these as positional arguments will result in an error\n",
      "  librosa.feature.spectral_rolloff(signal)[0, 0],\n",
      "/var/folders/zz/4rbbqf5d1mvbsgp0hsws8kd00000gn/T/ipykernel_7836/3336989843.py:5: FutureWarning: Pass y=[0.47985825 0.48005328 0.4802586  ... 0.43729502 0.43612668 0.4350061 ] as keyword args. From version 0.10 passing these as positional arguments will result in an error\n",
      "  librosa.feature.spectral_contrast(signal)[0, 0],\n",
      "/var/folders/zz/4rbbqf5d1mvbsgp0hsws8kd00000gn/T/ipykernel_7836/3336989843.py:3: FutureWarning: Pass y=[0.43393528 0.43291518 0.43194765 ... 0.42686716 0.42785093 0.42882368] as keyword args. From version 0.10 passing these as positional arguments will result in an error\n",
      "  librosa.feature.spectral_centroid(signal)[0, 0],\n",
      "/var/folders/zz/4rbbqf5d1mvbsgp0hsws8kd00000gn/T/ipykernel_7836/3336989843.py:4: FutureWarning: Pass y=[0.43393528 0.43291518 0.43194765 ... 0.42686716 0.42785093 0.42882368] as keyword args. From version 0.10 passing these as positional arguments will result in an error\n",
      "  librosa.feature.spectral_rolloff(signal)[0, 0],\n",
      "/var/folders/zz/4rbbqf5d1mvbsgp0hsws8kd00000gn/T/ipykernel_7836/3336989843.py:5: FutureWarning: Pass y=[0.43393528 0.43291518 0.43194765 ... 0.42686716 0.42785093 0.42882368] as keyword args. From version 0.10 passing these as positional arguments will result in an error\n",
      "  librosa.feature.spectral_contrast(signal)[0, 0],\n",
      "/var/folders/zz/4rbbqf5d1mvbsgp0hsws8kd00000gn/T/ipykernel_7836/3336989843.py:3: FutureWarning: Pass y=[0.42978457 0.43073305 0.43166843 ... 0.28283185 0.28219324 0.28156948] as keyword args. From version 0.10 passing these as positional arguments will result in an error\n",
      "  librosa.feature.spectral_centroid(signal)[0, 0],\n",
      "/var/folders/zz/4rbbqf5d1mvbsgp0hsws8kd00000gn/T/ipykernel_7836/3336989843.py:4: FutureWarning: Pass y=[0.42978457 0.43073305 0.43166843 ... 0.28283185 0.28219324 0.28156948] as keyword args. From version 0.10 passing these as positional arguments will result in an error\n",
      "  librosa.feature.spectral_rolloff(signal)[0, 0],\n",
      "/var/folders/zz/4rbbqf5d1mvbsgp0hsws8kd00000gn/T/ipykernel_7836/3336989843.py:5: FutureWarning: Pass y=[0.42978457 0.43073305 0.43166843 ... 0.28283185 0.28219324 0.28156948] as keyword args. From version 0.10 passing these as positional arguments will result in an error\n",
      "  librosa.feature.spectral_contrast(signal)[0, 0],\n",
      "/var/folders/zz/4rbbqf5d1mvbsgp0hsws8kd00000gn/T/ipykernel_7836/3336989843.py:3: FutureWarning: Pass y=[0.2809607  0.28036734 0.27978936 0.27922723 0.27868143 0.27815166\n",
      " 0.27763873 0.27714255 0.2766636  0.27620175 0.2757577  0.27533117\n",
      " 0.27492273 0.2745324  0.27416047 0.27380717 0.27347246 0.27315673\n",
      " 0.27286002 0.27258244 0.27232435 0.2720857  0.2718665  0.27166733\n",
      " 0.27148765 0.27132794 0.27118826 0.27106848 0.270969   0.2708895\n",
      " 0.27083027 0.2707911  0.27077216 0.2707734  0.27079484 0.27083656\n",
      " 0.2708981  0.27097982 0.27108142 0.2712029  0.27134418 0.27150497\n",
      " 0.27168536 0.27188516 0.27210414 0.272342   0.2725988  0.27287418\n",
      " 0.27316803 0.27347982 0.2738097  0.27415717 0.27452195 0.27490363\n",
      " 0.27530217 0.27571693 0.27614784 0.2765944  0.27705607 0.2775327\n",
      " 0.27802375 0.2785288  0.27904746 0.27957925 0.28012353 0.28068003\n",
      " 0.28124818 0.28182742 0.28241718 0.28301698 0.28362632 0.2842447\n",
      " 0.28487107 0.28550515 0.28614643 0.28679428 0.28744772 0.28810656\n",
      " 0.2887699  0.28943726 0.29010752 0.29078054 0.2914554  0.29213136\n",
      " 0.29280776 0.29348397 0.29415917 0.29483277 0.29550406 0.2961723\n",
      " 0.2968366  0.2974964  0.29815102 0.29879978 0.29944175 0.3000765\n",
      " 0.30070317 0.3013209  0.30192935 0.30252758 0.3031149  0.30369076\n",
      " 0.30425447 0.30480528 0.3053427  0.30586603 0.30637452 0.3068678\n",
      " 0.30734515 0.30780596 0.30824974 0.30867597 0.3090841  0.30947363\n",
      " 0.309844   0.31019494 0.3105258  0.3108363  0.311126   0.3113945\n",
      " 0.31164154 0.31186667 0.31206974 0.31225038 0.31240854 0.31254363\n",
      " 0.31265587 0.3127449  0.31281057 0.31285292 0.31287175 0.31286713\n",
      " 0.31283906 0.31278756 0.31271258 0.3126145  0.31249285 0.31234848\n",
      " 0.31218112 0.3119914  0.3117792  0.31154492 0.3112889  0.3110113\n",
      " 0.310713   0.310394   0.31005496 0.30969605 0.3093181  0.30892146\n",
      " 0.30850682 0.30807468 0.3076258  0.3071606  0.3066799  0.30618453\n",
      " 0.30567494 0.30515206 0.30461657 0.3040695  0.30351135 0.3029433\n",
      " 0.302366   0.30178034 0.30118716 0.3005876  0.2999825  0.29937264\n",
      " 0.29875916 0.29814303 0.2975251  0.29690644 0.29628816 0.29567114\n",
      " 0.2950564  0.29444498 0.29383782 0.293236   0.2926405  0.29205242\n",
      " 0.29147267 0.29090238 0.29034227 0.28979358 0.28925726 0.28873423\n",
      " 0.28822538 0.2877318  0.2872542  0.28679377 0.28635105 0.28592727\n",
      " 0.28552294 0.28513917 0.28477645 0.28443587 0.28411803 0.28382352\n",
      " 0.2835533  0.28330773 0.28308767 0.28289357 0.28272605 0.28258577\n",
      " 0.282473   0.28238803 0.2823317  0.28230417 0.28230578 0.28233674\n",
      " 0.28239748 0.28248808 0.28260875 0.28275964 0.28294072 0.28315216\n",
      " 0.28339392 0.28366587 0.28396803 0.28430012 0.28466228 0.28505385\n",
      " 0.28547487 0.28592497 0.2864037  0.28691068 0.2874456  0.28800777\n",
      " 0.28859675 0.28921217 0.289853   0.290519   0.2912092  0.29192302\n",
      " 0.29265973 0.29341847 0.29419824 0.29499832 0.29581782 0.29665586\n",
      " 0.29751128 0.2983832  0.29927063 0.30017248 0.30108762 0.30201486\n",
      " 0.3029534  0.30390173 0.30485892 0.30582368 0.30679482 0.30777118\n",
      " 0.3087515  0.30973458 0.31071913 0.31170386 0.31268752 0.31366894\n",
      " 0.31464684 0.3156199  0.31658697 0.31754667 0.31849775 0.31943908\n",
      " 0.32036936 0.32128742 0.322192   0.32308203 0.32395616 0.32481337\n",
      " 0.32565272 0.32647243 0.32727236 0.32805073 0.32880685 0.3295396\n",
      " 0.330248   0.3309313  0.33158848 0.33221865 0.332821   0.33339497\n",
      " 0.3339394  0.334454   0.33493796 0.3353904  0.3358112  0.33619958\n",
      " 0.3365551  0.33687735 0.33716598 0.33742064 0.33764094 0.33782688\n",
      " 0.33797818 0.3380945  0.33817616 0.33822277 0.33823457 0.3382116\n",
      " 0.33815402 0.3380619  0.3379355  0.33777517 0.3375813  0.33735415\n",
      " 0.3370942  0.33680207 0.33647808 0.33612308 0.33573738 0.33532196\n",
      " 0.33487737 0.33440456 0.33390412 0.33337694 0.3328242  0.33224648\n",
      " 0.331645   0.33102065 0.3303746  0.32970783 0.3290215  0.32831675\n",
      " 0.32759476 0.32685676 0.3261039  0.32533762 0.32455906 0.32376954\n",
      " 0.32297033 0.3221628  0.32134834 0.32052824 0.3197039  0.31887674\n",
      " 0.31804806 0.31721938 0.31639168 0.31556705 0.31474608 0.31393075\n",
      " 0.31312203 0.31232163 0.31153083 0.3107506  0.30998233 0.30922788\n",
      " 0.30848804 0.30776414 0.30705732 0.30636892 0.30570027 0.30505222\n",
      " 0.30442607 0.30382273 0.30324343 0.30268905 0.30216068 0.30165914\n",
      " 0.30118534 0.3007402  0.3003245  0.2999389  0.29958424 0.299261\n",
      " 0.29897    0.2987117  0.29848653 0.29829514 0.29813772 0.2980148\n",
      " 0.29792652 0.2978732  0.29785508 0.2978722  0.29792473 0.29801255\n",
      " 0.2981357  0.29829407 0.29848757 0.29871598 0.29897884 0.29927623\n",
      " 0.29960725 0.29997206 0.30036968 0.30079985 0.3012619  0.30175516\n",
      " 0.30227908 0.30283272 0.3034155  0.30402637 0.30466467 0.3053293\n",
      " 0.30601937 0.3067339  0.30747178 0.30823192 0.30901322 0.30981448\n",
      " 0.31063458 0.31147224 0.31232616 0.3131951  0.3140779  0.31497297\n",
      " 0.31587896 0.3167946  0.3177186  0.31864935 0.31958544 0.32052553\n",
      " 0.32146814 0.3224118  0.32335505 0.32429636 0.32523444 0.3261676\n",
      " 0.32709455 0.3280139  0.32892403 0.32982346 0.330711   0.331585\n",
      " 0.33244434 0.33328742 0.33411294 0.33491963 0.33570617 0.3364712\n",
      " 0.33721358 0.33793226 0.3386256  0.3392928  0.33993262 0.34054407\n",
      " 0.34112605 0.34167752 0.3421976  0.3426853  0.34313992 0.3435605\n",
      " 0.34394625 0.3442965  0.34461063 0.34488776 0.3451277  0.34532958\n",
      " 0.34549314 0.34561786 0.34570342 0.3457495  0.3457558  0.3457223\n",
      " 0.34564844 0.34553462 0.34538037 0.3451861  0.34495154 0.34467703\n",
      " 0.3443626  0.34400868 0.34361532 0.34318295 0.3427121  0.34220293\n",
      " 0.3416562  0.3410722  0.34045172 0.33979523 0.3391035  0.33837736\n",
      " 0.33761725 0.33682427 0.33599916 0.3351428  0.33425632 0.3333402\n",
      " 0.3323958  0.33142418 0.3304262  0.32940316 0.3283559  0.32728577\n",
      " 0.32619387 0.3250813  0.32394955 0.3227995  0.3216325  0.32044995\n",
      " 0.31925282 0.31804276 0.31682074 0.31558815 0.31434637 0.31309658\n",
      " 0.31184003 0.31057814 0.3093121  0.3080432  0.30677283 0.305502\n",
      " 0.3042322  0.3029645  0.30170017 0.30044043 0.29918647 0.2979394\n",
      " 0.29670033 0.29547045 0.29425088 0.29304242 0.29184625 0.29066345\n",
      " 0.28949484 0.28834146 0.2872041  0.2860836  0.2849809  0.28389654\n",
      " 0.28283158 0.2817864  0.28076196 0.27975863 0.27877703 0.2778177\n",
      " 0.27688122 0.2759678  0.27507803 0.2742122  0.27337053 0.2725534\n",
      " 0.27176088 0.27099323 0.2702505  0.26953283 0.2688401  0.26817247\n",
      " 0.2675297  0.26691183 0.26631865 0.2657498  0.26520526 0.2646845\n",
      " 0.26418754 0.26371372 0.2632627  0.26283407 0.26242736 0.2620419\n",
      " 0.2616773  0.26133293 0.26100808 0.26070222 0.26041463 0.26014456\n",
      " 0.25989124 0.259654   0.25943193 0.2592242  0.2590302  0.25884885\n",
      " 0.2586794  0.25852093 0.25837255 0.2582333  0.25810227 0.25797853\n",
      " 0.25786123 0.25774926 0.25764185 0.2575379  0.25743657 0.25733688\n",
      " 0.25723782 0.25713855 0.25703815 0.2569356  0.25683004 0.25672063\n",
      " 0.25660637 0.25648648 0.2563601  0.25622636 0.25608453 0.25593376\n",
      " 0.25577328 0.25560236 0.2554203  0.2552264  0.25502    0.25480047\n",
      " 0.25456727 0.25431976 0.2540575  0.25377986 0.25348648 0.2531769\n",
      " 0.2528508  0.25250772 0.25214738 0.25176957 0.25137398 0.2509605\n",
      " 0.25052887 0.25007913 0.24961096 0.24912465 0.24861994 0.24809696\n",
      " 0.2475558  0.24699673 0.24641977 0.24582514 0.24521317 0.24458408\n",
      " 0.24393842 0.24327627 0.24259806 0.24190444 0.24119589 0.24047284\n",
      " 0.23973577 0.23898558 0.23822254 0.23744754 0.23666121 0.23586431\n",
      " 0.23505758 0.23424187 0.23341785 0.23258637 0.23174861 0.23090519\n",
      " 0.23005699 0.22920515 0.22835049 0.22749396 0.22663662 0.2257795\n",
      " 0.22492358 0.22407    0.22321963 0.22237372 0.22153324 0.22069924\n",
      " 0.21987285 0.21905512 0.2182472  0.21745011 0.21666497 0.21589285\n",
      " 0.21513486 0.21439208 0.21366549 0.21295626 0.21226533 0.21159387\n",
      " 0.21094278 0.21031319 0.20970595 0.20912224 0.20856279 0.20802873\n",
      " 0.20752084 0.20704016 0.20658746 0.2061636  0.2057695  0.20540577\n",
      " 0.20507348 0.20477304 0.20450547 0.20427123 0.20407118 0.2039057\n",
      " 0.20377558 0.20368125 0.20362331 0.2036023  0.20361859 0.20367265\n",
      " 0.20376477 0.20389555 0.20406495 0.20427357 0.20452145 0.20480892\n",
      " 0.205136   0.20550299 0.20590994 0.20635684 0.20684381 0.20737067\n",
      " 0.20793761 0.20854436 0.20919093 0.209877   0.2106025  0.21136719\n",
      " 0.21217072 0.21301295 0.21389334 0.21481179 0.21576764 0.21676072\n",
      " 0.21779034 0.2188562  0.2199576  0.22109418 0.22226527 0.22347024\n",
      " 0.22470856 0.2259794  0.2272824  0.22861649 0.22998123 0.23137568\n",
      " 0.23279923 0.23425095 0.2357301  0.23723586 0.23876734 0.24032374\n",
      " 0.24190411 0.24350764 0.24513334 0.24678037 0.24844769 0.25013447\n",
      " 0.25183967 0.25356233 0.25530154 0.25705624 0.25882548 0.26060832\n",
      " 0.26240364 0.26421046 0.26602784 0.26785472 0.26969007 0.27153292\n",
      " 0.27338216 0.2752369  0.27709597 0.27895844 0.28082323 0.2826893\n",
      " 0.28455564 0.2864215  0.28828558 0.2901469  0.29200447 0.2938574\n",
      " 0.29570454 0.29754505 0.29937783 0.30120185 0.3030163  0.30482015\n",
      " 0.30661252 0.30839232 0.31015855 0.31191048 0.31364703 0.3153673\n",
      " 0.31707045 0.3187555  0.3204215  0.32206768 0.32369304 0.32529676\n",
      " 0.32687798 0.32843578 0.3299693  0.33147782 0.3329603  0.3344161\n",
      " 0.33584425 0.33724394 0.33861443 0.33995497 0.34126467 0.34254262\n",
      " 0.3437883  0.3450007  0.34617928 0.3473231  0.3484315  0.34950355\n",
      " 0.35053882 0.35153627 0.35249546 0.3534154  0.35429558 0.35513523\n",
      " 0.35593358 0.35669008 0.35740384 0.3580745  0.358701   0.359283\n",
      " 0.3598196  0.3603104  0.36075452 0.36115155 0.3615007  0.36180145\n",
      " 0.36205322 0.36225525 0.36240727 0.36250836 0.3625582  0.3625559\n",
      " 0.36250138 0.36239386 0.36223266 0.36201763 0.36174804 0.3614236\n",
      " 0.36104378 0.36060795 0.36011583 0.35956696 0.35896078 0.35829735\n",
      " 0.3575758  0.35679626 0.355958   0.35506102 0.3541048  0.35308897\n",
      " 0.3520136  0.3508782  0.349683   0.3484271  0.34711105 0.34573427\n",
      " 0.34429702 0.34279892 0.34124005 0.33962035 0.33793986 0.33619875\n",
      " 0.33439678 0.3325345  0.33061168 0.3286285  0.32658532 0.32448226\n",
      " 0.32231978 0.32009795 0.3178172  0.31547785 0.3130806  0.31062546\n",
      " 0.30811328 0.3055443  0.3029193  0.30023876 0.29750335 0.2947138\n",
      " 0.2918707  0.28897503 0.28602728 0.2830286  0.27997956 0.27688137\n",
      " 0.27373472 0.2705408  0.26730055 0.26401505 0.26068547 0.25731283\n",
      " 0.2538985  0.2504435  0.24694932 0.24341697 0.23984812 0.23624386\n",
      " 0.23260576 0.2289352  0.2252336  0.22150256 0.21774362 0.21395838\n",
      " 0.2101482  0.20631503 0.20246029 0.1985857  0.19469309 0.19078416\n",
      " 0.18686055 0.18292412 0.17897667 0.17501996 0.17105591 0.16708624\n",
      " 0.16311286 0.15913777 0.15516268 0.15118963 0.14722052 0.14325698\n",
      " 0.13930115 0.13535506 0.1314204  0.12749928 0.12359348 0.11970492\n",
      " 0.11583558 0.11198723 0.10816188 0.10436131 0.10058742 0.09684213\n",
      " 0.09312703 0.08944421 0.08579521 0.08218209 0.07860623 0.07506963\n",
      " 0.07157379 0.06812049 0.06471121 0.06134766 0.05803136 0.05476374\n",
      " 0.05154642 0.0483806  0.04526805 0.0422097  0.03920718 0.03626153\n",
      " 0.03337409 0.03054591 0.02777815 0.02507197 0.02242814 0.01984792\n",
      " 0.01733181 0.01488115 0.01249622 0.01017814 0.        ] as keyword args. From version 0.10 passing these as positional arguments will result in an error\n",
      "  librosa.feature.spectral_centroid(signal)[0, 0],\n",
      "/Users/julianliaw/opt/anaconda3/lib/python3.9/site-packages/librosa/util/decorators.py:88: UserWarning: n_fft=2048 is too small for input signal of length=947\n",
      "  return f(*args, **kwargs)\n",
      "/var/folders/zz/4rbbqf5d1mvbsgp0hsws8kd00000gn/T/ipykernel_7836/3336989843.py:4: FutureWarning: Pass y=[0.2809607  0.28036734 0.27978936 0.27922723 0.27868143 0.27815166\n",
      " 0.27763873 0.27714255 0.2766636  0.27620175 0.2757577  0.27533117\n",
      " 0.27492273 0.2745324  0.27416047 0.27380717 0.27347246 0.27315673\n",
      " 0.27286002 0.27258244 0.27232435 0.2720857  0.2718665  0.27166733\n",
      " 0.27148765 0.27132794 0.27118826 0.27106848 0.270969   0.2708895\n",
      " 0.27083027 0.2707911  0.27077216 0.2707734  0.27079484 0.27083656\n",
      " 0.2708981  0.27097982 0.27108142 0.2712029  0.27134418 0.27150497\n",
      " 0.27168536 0.27188516 0.27210414 0.272342   0.2725988  0.27287418\n",
      " 0.27316803 0.27347982 0.2738097  0.27415717 0.27452195 0.27490363\n",
      " 0.27530217 0.27571693 0.27614784 0.2765944  0.27705607 0.2775327\n",
      " 0.27802375 0.2785288  0.27904746 0.27957925 0.28012353 0.28068003\n",
      " 0.28124818 0.28182742 0.28241718 0.28301698 0.28362632 0.2842447\n",
      " 0.28487107 0.28550515 0.28614643 0.28679428 0.28744772 0.28810656\n",
      " 0.2887699  0.28943726 0.29010752 0.29078054 0.2914554  0.29213136\n",
      " 0.29280776 0.29348397 0.29415917 0.29483277 0.29550406 0.2961723\n",
      " 0.2968366  0.2974964  0.29815102 0.29879978 0.29944175 0.3000765\n",
      " 0.30070317 0.3013209  0.30192935 0.30252758 0.3031149  0.30369076\n",
      " 0.30425447 0.30480528 0.3053427  0.30586603 0.30637452 0.3068678\n",
      " 0.30734515 0.30780596 0.30824974 0.30867597 0.3090841  0.30947363\n",
      " 0.309844   0.31019494 0.3105258  0.3108363  0.311126   0.3113945\n",
      " 0.31164154 0.31186667 0.31206974 0.31225038 0.31240854 0.31254363\n",
      " 0.31265587 0.3127449  0.31281057 0.31285292 0.31287175 0.31286713\n",
      " 0.31283906 0.31278756 0.31271258 0.3126145  0.31249285 0.31234848\n",
      " 0.31218112 0.3119914  0.3117792  0.31154492 0.3112889  0.3110113\n",
      " 0.310713   0.310394   0.31005496 0.30969605 0.3093181  0.30892146\n",
      " 0.30850682 0.30807468 0.3076258  0.3071606  0.3066799  0.30618453\n",
      " 0.30567494 0.30515206 0.30461657 0.3040695  0.30351135 0.3029433\n",
      " 0.302366   0.30178034 0.30118716 0.3005876  0.2999825  0.29937264\n",
      " 0.29875916 0.29814303 0.2975251  0.29690644 0.29628816 0.29567114\n",
      " 0.2950564  0.29444498 0.29383782 0.293236   0.2926405  0.29205242\n",
      " 0.29147267 0.29090238 0.29034227 0.28979358 0.28925726 0.28873423\n",
      " 0.28822538 0.2877318  0.2872542  0.28679377 0.28635105 0.28592727\n",
      " 0.28552294 0.28513917 0.28477645 0.28443587 0.28411803 0.28382352\n",
      " 0.2835533  0.28330773 0.28308767 0.28289357 0.28272605 0.28258577\n",
      " 0.282473   0.28238803 0.2823317  0.28230417 0.28230578 0.28233674\n",
      " 0.28239748 0.28248808 0.28260875 0.28275964 0.28294072 0.28315216\n",
      " 0.28339392 0.28366587 0.28396803 0.28430012 0.28466228 0.28505385\n",
      " 0.28547487 0.28592497 0.2864037  0.28691068 0.2874456  0.28800777\n",
      " 0.28859675 0.28921217 0.289853   0.290519   0.2912092  0.29192302\n",
      " 0.29265973 0.29341847 0.29419824 0.29499832 0.29581782 0.29665586\n",
      " 0.29751128 0.2983832  0.29927063 0.30017248 0.30108762 0.30201486\n",
      " 0.3029534  0.30390173 0.30485892 0.30582368 0.30679482 0.30777118\n",
      " 0.3087515  0.30973458 0.31071913 0.31170386 0.31268752 0.31366894\n",
      " 0.31464684 0.3156199  0.31658697 0.31754667 0.31849775 0.31943908\n",
      " 0.32036936 0.32128742 0.322192   0.32308203 0.32395616 0.32481337\n",
      " 0.32565272 0.32647243 0.32727236 0.32805073 0.32880685 0.3295396\n",
      " 0.330248   0.3309313  0.33158848 0.33221865 0.332821   0.33339497\n",
      " 0.3339394  0.334454   0.33493796 0.3353904  0.3358112  0.33619958\n",
      " 0.3365551  0.33687735 0.33716598 0.33742064 0.33764094 0.33782688\n",
      " 0.33797818 0.3380945  0.33817616 0.33822277 0.33823457 0.3382116\n",
      " 0.33815402 0.3380619  0.3379355  0.33777517 0.3375813  0.33735415\n",
      " 0.3370942  0.33680207 0.33647808 0.33612308 0.33573738 0.33532196\n",
      " 0.33487737 0.33440456 0.33390412 0.33337694 0.3328242  0.33224648\n",
      " 0.331645   0.33102065 0.3303746  0.32970783 0.3290215  0.32831675\n",
      " 0.32759476 0.32685676 0.3261039  0.32533762 0.32455906 0.32376954\n",
      " 0.32297033 0.3221628  0.32134834 0.32052824 0.3197039  0.31887674\n",
      " 0.31804806 0.31721938 0.31639168 0.31556705 0.31474608 0.31393075\n",
      " 0.31312203 0.31232163 0.31153083 0.3107506  0.30998233 0.30922788\n",
      " 0.30848804 0.30776414 0.30705732 0.30636892 0.30570027 0.30505222\n",
      " 0.30442607 0.30382273 0.30324343 0.30268905 0.30216068 0.30165914\n",
      " 0.30118534 0.3007402  0.3003245  0.2999389  0.29958424 0.299261\n",
      " 0.29897    0.2987117  0.29848653 0.29829514 0.29813772 0.2980148\n",
      " 0.29792652 0.2978732  0.29785508 0.2978722  0.29792473 0.29801255\n",
      " 0.2981357  0.29829407 0.29848757 0.29871598 0.29897884 0.29927623\n",
      " 0.29960725 0.29997206 0.30036968 0.30079985 0.3012619  0.30175516\n",
      " 0.30227908 0.30283272 0.3034155  0.30402637 0.30466467 0.3053293\n",
      " 0.30601937 0.3067339  0.30747178 0.30823192 0.30901322 0.30981448\n",
      " 0.31063458 0.31147224 0.31232616 0.3131951  0.3140779  0.31497297\n",
      " 0.31587896 0.3167946  0.3177186  0.31864935 0.31958544 0.32052553\n",
      " 0.32146814 0.3224118  0.32335505 0.32429636 0.32523444 0.3261676\n",
      " 0.32709455 0.3280139  0.32892403 0.32982346 0.330711   0.331585\n",
      " 0.33244434 0.33328742 0.33411294 0.33491963 0.33570617 0.3364712\n",
      " 0.33721358 0.33793226 0.3386256  0.3392928  0.33993262 0.34054407\n",
      " 0.34112605 0.34167752 0.3421976  0.3426853  0.34313992 0.3435605\n",
      " 0.34394625 0.3442965  0.34461063 0.34488776 0.3451277  0.34532958\n",
      " 0.34549314 0.34561786 0.34570342 0.3457495  0.3457558  0.3457223\n",
      " 0.34564844 0.34553462 0.34538037 0.3451861  0.34495154 0.34467703\n",
      " 0.3443626  0.34400868 0.34361532 0.34318295 0.3427121  0.34220293\n",
      " 0.3416562  0.3410722  0.34045172 0.33979523 0.3391035  0.33837736\n",
      " 0.33761725 0.33682427 0.33599916 0.3351428  0.33425632 0.3333402\n",
      " 0.3323958  0.33142418 0.3304262  0.32940316 0.3283559  0.32728577\n",
      " 0.32619387 0.3250813  0.32394955 0.3227995  0.3216325  0.32044995\n",
      " 0.31925282 0.31804276 0.31682074 0.31558815 0.31434637 0.31309658\n",
      " 0.31184003 0.31057814 0.3093121  0.3080432  0.30677283 0.305502\n",
      " 0.3042322  0.3029645  0.30170017 0.30044043 0.29918647 0.2979394\n",
      " 0.29670033 0.29547045 0.29425088 0.29304242 0.29184625 0.29066345\n",
      " 0.28949484 0.28834146 0.2872041  0.2860836  0.2849809  0.28389654\n",
      " 0.28283158 0.2817864  0.28076196 0.27975863 0.27877703 0.2778177\n",
      " 0.27688122 0.2759678  0.27507803 0.2742122  0.27337053 0.2725534\n",
      " 0.27176088 0.27099323 0.2702505  0.26953283 0.2688401  0.26817247\n",
      " 0.2675297  0.26691183 0.26631865 0.2657498  0.26520526 0.2646845\n",
      " 0.26418754 0.26371372 0.2632627  0.26283407 0.26242736 0.2620419\n",
      " 0.2616773  0.26133293 0.26100808 0.26070222 0.26041463 0.26014456\n",
      " 0.25989124 0.259654   0.25943193 0.2592242  0.2590302  0.25884885\n",
      " 0.2586794  0.25852093 0.25837255 0.2582333  0.25810227 0.25797853\n",
      " 0.25786123 0.25774926 0.25764185 0.2575379  0.25743657 0.25733688\n",
      " 0.25723782 0.25713855 0.25703815 0.2569356  0.25683004 0.25672063\n",
      " 0.25660637 0.25648648 0.2563601  0.25622636 0.25608453 0.25593376\n",
      " 0.25577328 0.25560236 0.2554203  0.2552264  0.25502    0.25480047\n",
      " 0.25456727 0.25431976 0.2540575  0.25377986 0.25348648 0.2531769\n",
      " 0.2528508  0.25250772 0.25214738 0.25176957 0.25137398 0.2509605\n",
      " 0.25052887 0.25007913 0.24961096 0.24912465 0.24861994 0.24809696\n",
      " 0.2475558  0.24699673 0.24641977 0.24582514 0.24521317 0.24458408\n",
      " 0.24393842 0.24327627 0.24259806 0.24190444 0.24119589 0.24047284\n",
      " 0.23973577 0.23898558 0.23822254 0.23744754 0.23666121 0.23586431\n",
      " 0.23505758 0.23424187 0.23341785 0.23258637 0.23174861 0.23090519\n",
      " 0.23005699 0.22920515 0.22835049 0.22749396 0.22663662 0.2257795\n",
      " 0.22492358 0.22407    0.22321963 0.22237372 0.22153324 0.22069924\n",
      " 0.21987285 0.21905512 0.2182472  0.21745011 0.21666497 0.21589285\n",
      " 0.21513486 0.21439208 0.21366549 0.21295626 0.21226533 0.21159387\n",
      " 0.21094278 0.21031319 0.20970595 0.20912224 0.20856279 0.20802873\n",
      " 0.20752084 0.20704016 0.20658746 0.2061636  0.2057695  0.20540577\n",
      " 0.20507348 0.20477304 0.20450547 0.20427123 0.20407118 0.2039057\n",
      " 0.20377558 0.20368125 0.20362331 0.2036023  0.20361859 0.20367265\n",
      " 0.20376477 0.20389555 0.20406495 0.20427357 0.20452145 0.20480892\n",
      " 0.205136   0.20550299 0.20590994 0.20635684 0.20684381 0.20737067\n",
      " 0.20793761 0.20854436 0.20919093 0.209877   0.2106025  0.21136719\n",
      " 0.21217072 0.21301295 0.21389334 0.21481179 0.21576764 0.21676072\n",
      " 0.21779034 0.2188562  0.2199576  0.22109418 0.22226527 0.22347024\n",
      " 0.22470856 0.2259794  0.2272824  0.22861649 0.22998123 0.23137568\n",
      " 0.23279923 0.23425095 0.2357301  0.23723586 0.23876734 0.24032374\n",
      " 0.24190411 0.24350764 0.24513334 0.24678037 0.24844769 0.25013447\n",
      " 0.25183967 0.25356233 0.25530154 0.25705624 0.25882548 0.26060832\n",
      " 0.26240364 0.26421046 0.26602784 0.26785472 0.26969007 0.27153292\n",
      " 0.27338216 0.2752369  0.27709597 0.27895844 0.28082323 0.2826893\n",
      " 0.28455564 0.2864215  0.28828558 0.2901469  0.29200447 0.2938574\n",
      " 0.29570454 0.29754505 0.29937783 0.30120185 0.3030163  0.30482015\n",
      " 0.30661252 0.30839232 0.31015855 0.31191048 0.31364703 0.3153673\n",
      " 0.31707045 0.3187555  0.3204215  0.32206768 0.32369304 0.32529676\n",
      " 0.32687798 0.32843578 0.3299693  0.33147782 0.3329603  0.3344161\n",
      " 0.33584425 0.33724394 0.33861443 0.33995497 0.34126467 0.34254262\n",
      " 0.3437883  0.3450007  0.34617928 0.3473231  0.3484315  0.34950355\n",
      " 0.35053882 0.35153627 0.35249546 0.3534154  0.35429558 0.35513523\n",
      " 0.35593358 0.35669008 0.35740384 0.3580745  0.358701   0.359283\n",
      " 0.3598196  0.3603104  0.36075452 0.36115155 0.3615007  0.36180145\n",
      " 0.36205322 0.36225525 0.36240727 0.36250836 0.3625582  0.3625559\n",
      " 0.36250138 0.36239386 0.36223266 0.36201763 0.36174804 0.3614236\n",
      " 0.36104378 0.36060795 0.36011583 0.35956696 0.35896078 0.35829735\n",
      " 0.3575758  0.35679626 0.355958   0.35506102 0.3541048  0.35308897\n",
      " 0.3520136  0.3508782  0.349683   0.3484271  0.34711105 0.34573427\n",
      " 0.34429702 0.34279892 0.34124005 0.33962035 0.33793986 0.33619875\n",
      " 0.33439678 0.3325345  0.33061168 0.3286285  0.32658532 0.32448226\n",
      " 0.32231978 0.32009795 0.3178172  0.31547785 0.3130806  0.31062546\n",
      " 0.30811328 0.3055443  0.3029193  0.30023876 0.29750335 0.2947138\n",
      " 0.2918707  0.28897503 0.28602728 0.2830286  0.27997956 0.27688137\n",
      " 0.27373472 0.2705408  0.26730055 0.26401505 0.26068547 0.25731283\n",
      " 0.2538985  0.2504435  0.24694932 0.24341697 0.23984812 0.23624386\n",
      " 0.23260576 0.2289352  0.2252336  0.22150256 0.21774362 0.21395838\n",
      " 0.2101482  0.20631503 0.20246029 0.1985857  0.19469309 0.19078416\n",
      " 0.18686055 0.18292412 0.17897667 0.17501996 0.17105591 0.16708624\n",
      " 0.16311286 0.15913777 0.15516268 0.15118963 0.14722052 0.14325698\n",
      " 0.13930115 0.13535506 0.1314204  0.12749928 0.12359348 0.11970492\n",
      " 0.11583558 0.11198723 0.10816188 0.10436131 0.10058742 0.09684213\n",
      " 0.09312703 0.08944421 0.08579521 0.08218209 0.07860623 0.07506963\n",
      " 0.07157379 0.06812049 0.06471121 0.06134766 0.05803136 0.05476374\n",
      " 0.05154642 0.0483806  0.04526805 0.0422097  0.03920718 0.03626153\n",
      " 0.03337409 0.03054591 0.02777815 0.02507197 0.02242814 0.01984792\n",
      " 0.01733181 0.01488115 0.01249622 0.01017814 0.        ] as keyword args. From version 0.10 passing these as positional arguments will result in an error\n",
      "  librosa.feature.spectral_rolloff(signal)[0, 0],\n",
      "/var/folders/zz/4rbbqf5d1mvbsgp0hsws8kd00000gn/T/ipykernel_7836/3336989843.py:5: FutureWarning: Pass y=[0.2809607  0.28036734 0.27978936 0.27922723 0.27868143 0.27815166\n",
      " 0.27763873 0.27714255 0.2766636  0.27620175 0.2757577  0.27533117\n",
      " 0.27492273 0.2745324  0.27416047 0.27380717 0.27347246 0.27315673\n",
      " 0.27286002 0.27258244 0.27232435 0.2720857  0.2718665  0.27166733\n",
      " 0.27148765 0.27132794 0.27118826 0.27106848 0.270969   0.2708895\n",
      " 0.27083027 0.2707911  0.27077216 0.2707734  0.27079484 0.27083656\n",
      " 0.2708981  0.27097982 0.27108142 0.2712029  0.27134418 0.27150497\n",
      " 0.27168536 0.27188516 0.27210414 0.272342   0.2725988  0.27287418\n",
      " 0.27316803 0.27347982 0.2738097  0.27415717 0.27452195 0.27490363\n",
      " 0.27530217 0.27571693 0.27614784 0.2765944  0.27705607 0.2775327\n",
      " 0.27802375 0.2785288  0.27904746 0.27957925 0.28012353 0.28068003\n",
      " 0.28124818 0.28182742 0.28241718 0.28301698 0.28362632 0.2842447\n",
      " 0.28487107 0.28550515 0.28614643 0.28679428 0.28744772 0.28810656\n",
      " 0.2887699  0.28943726 0.29010752 0.29078054 0.2914554  0.29213136\n",
      " 0.29280776 0.29348397 0.29415917 0.29483277 0.29550406 0.2961723\n",
      " 0.2968366  0.2974964  0.29815102 0.29879978 0.29944175 0.3000765\n",
      " 0.30070317 0.3013209  0.30192935 0.30252758 0.3031149  0.30369076\n",
      " 0.30425447 0.30480528 0.3053427  0.30586603 0.30637452 0.3068678\n",
      " 0.30734515 0.30780596 0.30824974 0.30867597 0.3090841  0.30947363\n",
      " 0.309844   0.31019494 0.3105258  0.3108363  0.311126   0.3113945\n",
      " 0.31164154 0.31186667 0.31206974 0.31225038 0.31240854 0.31254363\n",
      " 0.31265587 0.3127449  0.31281057 0.31285292 0.31287175 0.31286713\n",
      " 0.31283906 0.31278756 0.31271258 0.3126145  0.31249285 0.31234848\n",
      " 0.31218112 0.3119914  0.3117792  0.31154492 0.3112889  0.3110113\n",
      " 0.310713   0.310394   0.31005496 0.30969605 0.3093181  0.30892146\n",
      " 0.30850682 0.30807468 0.3076258  0.3071606  0.3066799  0.30618453\n",
      " 0.30567494 0.30515206 0.30461657 0.3040695  0.30351135 0.3029433\n",
      " 0.302366   0.30178034 0.30118716 0.3005876  0.2999825  0.29937264\n",
      " 0.29875916 0.29814303 0.2975251  0.29690644 0.29628816 0.29567114\n",
      " 0.2950564  0.29444498 0.29383782 0.293236   0.2926405  0.29205242\n",
      " 0.29147267 0.29090238 0.29034227 0.28979358 0.28925726 0.28873423\n",
      " 0.28822538 0.2877318  0.2872542  0.28679377 0.28635105 0.28592727\n",
      " 0.28552294 0.28513917 0.28477645 0.28443587 0.28411803 0.28382352\n",
      " 0.2835533  0.28330773 0.28308767 0.28289357 0.28272605 0.28258577\n",
      " 0.282473   0.28238803 0.2823317  0.28230417 0.28230578 0.28233674\n",
      " 0.28239748 0.28248808 0.28260875 0.28275964 0.28294072 0.28315216\n",
      " 0.28339392 0.28366587 0.28396803 0.28430012 0.28466228 0.28505385\n",
      " 0.28547487 0.28592497 0.2864037  0.28691068 0.2874456  0.28800777\n",
      " 0.28859675 0.28921217 0.289853   0.290519   0.2912092  0.29192302\n",
      " 0.29265973 0.29341847 0.29419824 0.29499832 0.29581782 0.29665586\n",
      " 0.29751128 0.2983832  0.29927063 0.30017248 0.30108762 0.30201486\n",
      " 0.3029534  0.30390173 0.30485892 0.30582368 0.30679482 0.30777118\n",
      " 0.3087515  0.30973458 0.31071913 0.31170386 0.31268752 0.31366894\n",
      " 0.31464684 0.3156199  0.31658697 0.31754667 0.31849775 0.31943908\n",
      " 0.32036936 0.32128742 0.322192   0.32308203 0.32395616 0.32481337\n",
      " 0.32565272 0.32647243 0.32727236 0.32805073 0.32880685 0.3295396\n",
      " 0.330248   0.3309313  0.33158848 0.33221865 0.332821   0.33339497\n",
      " 0.3339394  0.334454   0.33493796 0.3353904  0.3358112  0.33619958\n",
      " 0.3365551  0.33687735 0.33716598 0.33742064 0.33764094 0.33782688\n",
      " 0.33797818 0.3380945  0.33817616 0.33822277 0.33823457 0.3382116\n",
      " 0.33815402 0.3380619  0.3379355  0.33777517 0.3375813  0.33735415\n",
      " 0.3370942  0.33680207 0.33647808 0.33612308 0.33573738 0.33532196\n",
      " 0.33487737 0.33440456 0.33390412 0.33337694 0.3328242  0.33224648\n",
      " 0.331645   0.33102065 0.3303746  0.32970783 0.3290215  0.32831675\n",
      " 0.32759476 0.32685676 0.3261039  0.32533762 0.32455906 0.32376954\n",
      " 0.32297033 0.3221628  0.32134834 0.32052824 0.3197039  0.31887674\n",
      " 0.31804806 0.31721938 0.31639168 0.31556705 0.31474608 0.31393075\n",
      " 0.31312203 0.31232163 0.31153083 0.3107506  0.30998233 0.30922788\n",
      " 0.30848804 0.30776414 0.30705732 0.30636892 0.30570027 0.30505222\n",
      " 0.30442607 0.30382273 0.30324343 0.30268905 0.30216068 0.30165914\n",
      " 0.30118534 0.3007402  0.3003245  0.2999389  0.29958424 0.299261\n",
      " 0.29897    0.2987117  0.29848653 0.29829514 0.29813772 0.2980148\n",
      " 0.29792652 0.2978732  0.29785508 0.2978722  0.29792473 0.29801255\n",
      " 0.2981357  0.29829407 0.29848757 0.29871598 0.29897884 0.29927623\n",
      " 0.29960725 0.29997206 0.30036968 0.30079985 0.3012619  0.30175516\n",
      " 0.30227908 0.30283272 0.3034155  0.30402637 0.30466467 0.3053293\n",
      " 0.30601937 0.3067339  0.30747178 0.30823192 0.30901322 0.30981448\n",
      " 0.31063458 0.31147224 0.31232616 0.3131951  0.3140779  0.31497297\n",
      " 0.31587896 0.3167946  0.3177186  0.31864935 0.31958544 0.32052553\n",
      " 0.32146814 0.3224118  0.32335505 0.32429636 0.32523444 0.3261676\n",
      " 0.32709455 0.3280139  0.32892403 0.32982346 0.330711   0.331585\n",
      " 0.33244434 0.33328742 0.33411294 0.33491963 0.33570617 0.3364712\n",
      " 0.33721358 0.33793226 0.3386256  0.3392928  0.33993262 0.34054407\n",
      " 0.34112605 0.34167752 0.3421976  0.3426853  0.34313992 0.3435605\n",
      " 0.34394625 0.3442965  0.34461063 0.34488776 0.3451277  0.34532958\n",
      " 0.34549314 0.34561786 0.34570342 0.3457495  0.3457558  0.3457223\n",
      " 0.34564844 0.34553462 0.34538037 0.3451861  0.34495154 0.34467703\n",
      " 0.3443626  0.34400868 0.34361532 0.34318295 0.3427121  0.34220293\n",
      " 0.3416562  0.3410722  0.34045172 0.33979523 0.3391035  0.33837736\n",
      " 0.33761725 0.33682427 0.33599916 0.3351428  0.33425632 0.3333402\n",
      " 0.3323958  0.33142418 0.3304262  0.32940316 0.3283559  0.32728577\n",
      " 0.32619387 0.3250813  0.32394955 0.3227995  0.3216325  0.32044995\n",
      " 0.31925282 0.31804276 0.31682074 0.31558815 0.31434637 0.31309658\n",
      " 0.31184003 0.31057814 0.3093121  0.3080432  0.30677283 0.305502\n",
      " 0.3042322  0.3029645  0.30170017 0.30044043 0.29918647 0.2979394\n",
      " 0.29670033 0.29547045 0.29425088 0.29304242 0.29184625 0.29066345\n",
      " 0.28949484 0.28834146 0.2872041  0.2860836  0.2849809  0.28389654\n",
      " 0.28283158 0.2817864  0.28076196 0.27975863 0.27877703 0.2778177\n",
      " 0.27688122 0.2759678  0.27507803 0.2742122  0.27337053 0.2725534\n",
      " 0.27176088 0.27099323 0.2702505  0.26953283 0.2688401  0.26817247\n",
      " 0.2675297  0.26691183 0.26631865 0.2657498  0.26520526 0.2646845\n",
      " 0.26418754 0.26371372 0.2632627  0.26283407 0.26242736 0.2620419\n",
      " 0.2616773  0.26133293 0.26100808 0.26070222 0.26041463 0.26014456\n",
      " 0.25989124 0.259654   0.25943193 0.2592242  0.2590302  0.25884885\n",
      " 0.2586794  0.25852093 0.25837255 0.2582333  0.25810227 0.25797853\n",
      " 0.25786123 0.25774926 0.25764185 0.2575379  0.25743657 0.25733688\n",
      " 0.25723782 0.25713855 0.25703815 0.2569356  0.25683004 0.25672063\n",
      " 0.25660637 0.25648648 0.2563601  0.25622636 0.25608453 0.25593376\n",
      " 0.25577328 0.25560236 0.2554203  0.2552264  0.25502    0.25480047\n",
      " 0.25456727 0.25431976 0.2540575  0.25377986 0.25348648 0.2531769\n",
      " 0.2528508  0.25250772 0.25214738 0.25176957 0.25137398 0.2509605\n",
      " 0.25052887 0.25007913 0.24961096 0.24912465 0.24861994 0.24809696\n",
      " 0.2475558  0.24699673 0.24641977 0.24582514 0.24521317 0.24458408\n",
      " 0.24393842 0.24327627 0.24259806 0.24190444 0.24119589 0.24047284\n",
      " 0.23973577 0.23898558 0.23822254 0.23744754 0.23666121 0.23586431\n",
      " 0.23505758 0.23424187 0.23341785 0.23258637 0.23174861 0.23090519\n",
      " 0.23005699 0.22920515 0.22835049 0.22749396 0.22663662 0.2257795\n",
      " 0.22492358 0.22407    0.22321963 0.22237372 0.22153324 0.22069924\n",
      " 0.21987285 0.21905512 0.2182472  0.21745011 0.21666497 0.21589285\n",
      " 0.21513486 0.21439208 0.21366549 0.21295626 0.21226533 0.21159387\n",
      " 0.21094278 0.21031319 0.20970595 0.20912224 0.20856279 0.20802873\n",
      " 0.20752084 0.20704016 0.20658746 0.2061636  0.2057695  0.20540577\n",
      " 0.20507348 0.20477304 0.20450547 0.20427123 0.20407118 0.2039057\n",
      " 0.20377558 0.20368125 0.20362331 0.2036023  0.20361859 0.20367265\n",
      " 0.20376477 0.20389555 0.20406495 0.20427357 0.20452145 0.20480892\n",
      " 0.205136   0.20550299 0.20590994 0.20635684 0.20684381 0.20737067\n",
      " 0.20793761 0.20854436 0.20919093 0.209877   0.2106025  0.21136719\n",
      " 0.21217072 0.21301295 0.21389334 0.21481179 0.21576764 0.21676072\n",
      " 0.21779034 0.2188562  0.2199576  0.22109418 0.22226527 0.22347024\n",
      " 0.22470856 0.2259794  0.2272824  0.22861649 0.22998123 0.23137568\n",
      " 0.23279923 0.23425095 0.2357301  0.23723586 0.23876734 0.24032374\n",
      " 0.24190411 0.24350764 0.24513334 0.24678037 0.24844769 0.25013447\n",
      " 0.25183967 0.25356233 0.25530154 0.25705624 0.25882548 0.26060832\n",
      " 0.26240364 0.26421046 0.26602784 0.26785472 0.26969007 0.27153292\n",
      " 0.27338216 0.2752369  0.27709597 0.27895844 0.28082323 0.2826893\n",
      " 0.28455564 0.2864215  0.28828558 0.2901469  0.29200447 0.2938574\n",
      " 0.29570454 0.29754505 0.29937783 0.30120185 0.3030163  0.30482015\n",
      " 0.30661252 0.30839232 0.31015855 0.31191048 0.31364703 0.3153673\n",
      " 0.31707045 0.3187555  0.3204215  0.32206768 0.32369304 0.32529676\n",
      " 0.32687798 0.32843578 0.3299693  0.33147782 0.3329603  0.3344161\n",
      " 0.33584425 0.33724394 0.33861443 0.33995497 0.34126467 0.34254262\n",
      " 0.3437883  0.3450007  0.34617928 0.3473231  0.3484315  0.34950355\n",
      " 0.35053882 0.35153627 0.35249546 0.3534154  0.35429558 0.35513523\n",
      " 0.35593358 0.35669008 0.35740384 0.3580745  0.358701   0.359283\n",
      " 0.3598196  0.3603104  0.36075452 0.36115155 0.3615007  0.36180145\n",
      " 0.36205322 0.36225525 0.36240727 0.36250836 0.3625582  0.3625559\n",
      " 0.36250138 0.36239386 0.36223266 0.36201763 0.36174804 0.3614236\n",
      " 0.36104378 0.36060795 0.36011583 0.35956696 0.35896078 0.35829735\n",
      " 0.3575758  0.35679626 0.355958   0.35506102 0.3541048  0.35308897\n",
      " 0.3520136  0.3508782  0.349683   0.3484271  0.34711105 0.34573427\n",
      " 0.34429702 0.34279892 0.34124005 0.33962035 0.33793986 0.33619875\n",
      " 0.33439678 0.3325345  0.33061168 0.3286285  0.32658532 0.32448226\n",
      " 0.32231978 0.32009795 0.3178172  0.31547785 0.3130806  0.31062546\n",
      " 0.30811328 0.3055443  0.3029193  0.30023876 0.29750335 0.2947138\n",
      " 0.2918707  0.28897503 0.28602728 0.2830286  0.27997956 0.27688137\n",
      " 0.27373472 0.2705408  0.26730055 0.26401505 0.26068547 0.25731283\n",
      " 0.2538985  0.2504435  0.24694932 0.24341697 0.23984812 0.23624386\n",
      " 0.23260576 0.2289352  0.2252336  0.22150256 0.21774362 0.21395838\n",
      " 0.2101482  0.20631503 0.20246029 0.1985857  0.19469309 0.19078416\n",
      " 0.18686055 0.18292412 0.17897667 0.17501996 0.17105591 0.16708624\n",
      " 0.16311286 0.15913777 0.15516268 0.15118963 0.14722052 0.14325698\n",
      " 0.13930115 0.13535506 0.1314204  0.12749928 0.12359348 0.11970492\n",
      " 0.11583558 0.11198723 0.10816188 0.10436131 0.10058742 0.09684213\n",
      " 0.09312703 0.08944421 0.08579521 0.08218209 0.07860623 0.07506963\n",
      " 0.07157379 0.06812049 0.06471121 0.06134766 0.05803136 0.05476374\n",
      " 0.05154642 0.0483806  0.04526805 0.0422097  0.03920718 0.03626153\n",
      " 0.03337409 0.03054591 0.02777815 0.02507197 0.02242814 0.01984792\n",
      " 0.01733181 0.01488115 0.01249622 0.01017814 0.        ] as keyword args. From version 0.10 passing these as positional arguments will result in an error\n",
      "  librosa.feature.spectral_contrast(signal)[0, 0],\n"
     ]
    }
   ],
   "source": [
    "audio_features = numpy.array([extract_features(x[i: i + 2048]) for i in range(0, len(x), 2048)]) "
   ]
  },
  {
   "cell_type": "markdown",
   "id": "ea1df3cb",
   "metadata": {},
   "source": [
    "# Feature 1: Spectral Centroid"
   ]
  },
  {
   "cell_type": "code",
   "execution_count": 18,
   "id": "9b6bf67d",
   "metadata": {},
   "outputs": [
    {
     "data": {
      "text/plain": [
       "Text(0, 0.5, 'Count')"
      ]
     },
     "execution_count": 18,
     "metadata": {},
     "output_type": "execute_result"
    },
    {
     "data": {
      "image/png": "[encoded data removed]",
      "text/plain": [
       "<Figure size 1008x360 with 1 Axes>"
      ]
     },
     "metadata": {
      "needs_background": "light"
     },
     "output_type": "display_data"
    }
   ],
   "source": [
    "plt.figure(figsize=(14, 5))\n",
    "plt.hist(audio_features[:,1], color='b', range=(0, 4000), bins=30, alpha=0.6)\n",
    "plt.xlabel('Spectral Centroid (frequency bin)')\n",
    "plt.ylabel('Count')"
   ]
  },
  {
   "cell_type": "markdown",
   "id": "f9fafa80",
   "metadata": {},
   "source": [
    "# Feature 2: Spectral Rolloff"
   ]
  },
  {
   "cell_type": "code",
   "execution_count": 19,
   "id": "4f85a9ad",
   "metadata": {},
   "outputs": [
    {
     "name": "stderr",
     "output_type": "stream",
     "text": [
      "/var/folders/zz/4rbbqf5d1mvbsgp0hsws8kd00000gn/T/ipykernel_7836/3608151521.py:1: FutureWarning: Pass y=[0.48642957 0.4907767  0.49497452 ... 0.01249622 0.01017814 0.        ] as keyword args. From version 0.10 passing these as positional arguments will result in an error\n",
      "  spectral_centroids = librosa.feature.spectral_centroid(x, sr=sr)[0]\n"
     ]
    }
   ],
   "source": [
    "spectral_centroids = librosa.feature.spectral_centroid(x, sr=sr)[0]\n",
    "spectral_centroids.shape\n",
    "frames = range(len(spectral_centroids))\n",
    "t = librosa.frames_to_time(frames)\n",
    "def normalize(x, axis=0):\n",
    "    return sklearn.preprocessing.minmax_scale(x, axis=axis)"
   ]
  },
  {
   "cell_type": "code",
   "execution_count": 20,
   "id": "9e0c31da",
   "metadata": {},
   "outputs": [
    {
     "name": "stderr",
     "output_type": "stream",
     "text": [
      "/var/folders/zz/4rbbqf5d1mvbsgp0hsws8kd00000gn/T/ipykernel_7836/1087900744.py:2: FutureWarning: Pass y=[0.49642956 0.5007767  0.50497454 ... 0.02249622 0.02017814 0.01      ] as keyword args. From version 0.10 passing these as positional arguments will result in an error\n",
      "  spectral_rolloff = librosa.feature.spectral_rolloff(x+0.01, sr=sr)[0]\n"
     ]
    },
    {
     "data": {
      "text/plain": [
       "[<matplotlib.lines.Line2D at 0x7fabb80ded90>]"
      ]
     },
     "execution_count": 20,
     "metadata": {},
     "output_type": "execute_result"
    },
    {
     "data": {
      "image/png": "[encoded data removed]",
      "text/plain": [
       "<Figure size 1008x360 with 1 Axes>"
      ]
     },
     "metadata": {
      "needs_background": "light"
     },
     "output_type": "display_data"
    }
   ],
   "source": [
    "plt.figure(figsize=(14, 5))\n",
    "spectral_rolloff = librosa.feature.spectral_rolloff(x+0.01, sr=sr)[0]\n",
    "librosa.display.waveshow(x, sr=sr, alpha=0.4)\n",
    "plt.plot(t, normalize(spectral_rolloff), color='r')"
   ]
  },
  {
   "cell_type": "markdown",
   "id": "62ce477c",
   "metadata": {},
   "source": [
    "# Feature 3: Spectral Contrast"
   ]
  },
  {
   "cell_type": "code",
   "execution_count": 21,
   "id": "47d3be3b",
   "metadata": {},
   "outputs": [
    {
     "name": "stderr",
     "output_type": "stream",
     "text": [
      "/var/folders/zz/4rbbqf5d1mvbsgp0hsws8kd00000gn/T/ipykernel_7836/3656958463.py:1: FutureWarning: Pass y=[0.48642957 0.4907767  0.49497452 ... 0.01249622 0.01017814 0.        ] as keyword args. From version 0.10 passing these as positional arguments will result in an error\n",
      "  spectral_contrast = librosa.feature.spectral_contrast(x, sr=sr)\n"
     ]
    },
    {
     "data": {
      "text/plain": [
       "(7, 46)"
      ]
     },
     "execution_count": 21,
     "metadata": {},
     "output_type": "execute_result"
    }
   ],
   "source": [
    "spectral_contrast = librosa.feature.spectral_contrast(x, sr=sr)\n",
    "spectral_contrast.shape"
   ]
  },
  {
   "cell_type": "code",
   "execution_count": 22,
   "id": "aacdf970",
   "metadata": {},
   "outputs": [
    {
     "data": {
      "text/plain": [
       "<matplotlib.image.AxesImage at 0x7fabb8164400>"
      ]
     },
     "execution_count": 22,
     "metadata": {},
     "output_type": "execute_result"
    },
    {
     "data": {
      "image/png": "[encoded data removed]",
      "text/plain": [
       "<Figure size 1008x360 with 1 Axes>"
      ]
     },
     "metadata": {
      "needs_background": "light"
     },
     "output_type": "display_data"
    }
   ],
   "source": [
    "plt.figure(figsize=(14, 5))\n",
    "plt.imshow(normalize(spectral_contrast, axis=1), aspect='auto', origin='lower', cmap='coolwarm',)"
   ]
  },
  {
   "cell_type": "code",
   "execution_count": null,
   "id": "0dbf8a47",
   "metadata": {},
   "outputs": [],
   "source": []
  }
 ],
 "metadata": {
  "kernelspec": {
   "display_name": "Python 3 (ipykernel)",
   "language": "python",
   "name": "python3"
  },
  "language_info": {
   "codemirror_mode": {
    "name": "ipython",
    "version": 3
   },
   "file_extension": ".py",
   "mimetype": "text/x-python",
   "name": "python",
   "nbconvert_exporter": "python",
   "pygments_lexer": "ipython3",
   "version": "3.9.7"
  }
 },
 "nbformat": 4,
 "nbformat_minor": 5
}
